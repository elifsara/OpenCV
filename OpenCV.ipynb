{
 "cells": [
  {
   "cell_type": "markdown",
   "id": "d77294f1-aa16-46df-8f36-abb872fa45c9",
   "metadata": {},
   "source": [
    "## 2. Görevlendirme"
   ]
  },
  {
   "cell_type": "markdown",
   "id": "09cb1ee4-e554-41ee-86d5-45f47f82843b",
   "metadata": {},
   "source": [
    "Opencv kütüphanesini kullanarak bir görüntüyü içe aktarma, yeniden boyutlandırma, gri tonlama, histogram eşitleme ve gürültü ekleme gibi işlemlerin yapılması."
   ]
  },
  {
   "cell_type": "code",
   "execution_count": 3,
   "id": "3ef3e2e0-44a0-4de5-ac4b-42d5d21b0682",
   "metadata": {},
   "outputs": [],
   "source": [
    "#Gerekli kütüphaneleri import ediyorum\n",
    "import cv2\n",
    "import matplotlib.pyplot as plt"
   ]
  },
  {
   "cell_type": "code",
   "execution_count": 4,
   "id": "001094ec-e24f-490c-bc67-98e5eb23276e",
   "metadata": {},
   "outputs": [],
   "source": [
    "# Görüntüyü içe aktarma\n",
    "image = cv2.imread(\"david-becker.jpg\") "
   ]
  },
  {
   "cell_type": "code",
   "execution_count": 5,
   "id": "0756d8d0-2552-465a-8a1c-ce1a39d2f8e5",
   "metadata": {},
   "outputs": [
    {
     "name": "stderr",
     "output_type": "stream",
     "text": [
      "2025-01-01 01:59:28.356 python[9412:319694] +[IMKClient subclass]: chose IMKClient_Modern\n",
      "2025-01-01 01:59:28.356 python[9412:319694] +[IMKInputSession subclass]: chose IMKInputSession_Modern\n"
     ]
    }
   ],
   "source": [
    "#Görüntüyü ekranda gösterme\n",
    "cv2.imshow(\"image\", image)\n",
    "cv2.waitKey(0)\n",
    "cv2.destroyAllWindows()"
   ]
  },
  {
   "cell_type": "code",
   "execution_count": 6,
   "id": "842d5dff-d1f8-43f8-b9c2-ee677a33c405",
   "metadata": {},
   "outputs": [],
   "source": [
    "# Görüntüyü yeniden boyutlandırma\n",
    "resized_image = cv2.resize(image, (400, 400))  # Yeni boyut (400x400)\n",
    "cv2.imshow(\"Resized image\", resized_image)\n",
    "cv2.waitKey(0)\n",
    "cv2.destroyAllWindows()\n"
   ]
  },
  {
   "cell_type": "code",
   "execution_count": 7,
   "id": "7c62dcb6-b8e0-47d5-83f8-731b9a64befd",
   "metadata": {},
   "outputs": [],
   "source": [
    "# Görüntüyü gri tonlamaya dönüştürme\n",
    "gray_image = cv2.cvtColor(resized_image, cv2.COLOR_BGR2GRAY)\n",
    "cv2.imshow(\"Gray image\", gray_image)\n",
    "cv2.waitKey(0)\n",
    "cv2.destroyAllWindows()"
   ]
  },
  {
   "cell_type": "code",
   "execution_count": 8,
   "id": "b80a0cbf-e1e4-4638-adff-b6fe7351024b",
   "metadata": {},
   "outputs": [],
   "source": [
    "# Histogram eşitleme\n",
    "equalized_image = cv2.equalizeHist(gray_image)\n",
    "cv2.imshow(\"Equalized image\", equalized_image)\n",
    "cv2.waitKey(0)\n",
    "cv2.destroyAllWindows()"
   ]
  },
  {
   "cell_type": "code",
   "execution_count": 9,
   "id": "f7f5acad-1dae-494c-9f08-1c59acca4dd4",
   "metadata": {},
   "outputs": [],
   "source": [
    "import numpy as np\n",
    "\n",
    "# Gürültü ekleme\n",
    "noise = np.random.randint(0, 50, gray_image.shape, dtype='uint8')  # Gürültü oluştur\n",
    "noisy_image = cv2.add(gray_image, noise)  # Gürültüyü ekle\n",
    "cv2.imshow(\"noisy image\", noisy_image)\n",
    "cv2.waitKey(0)\n",
    "cv2.destroyAllWindows()"
   ]
  }
 ],
 "metadata": {
  "kernelspec": {
   "display_name": "Python [conda env:base] *",
   "language": "python",
   "name": "conda-base-py"
  },
  "language_info": {
   "codemirror_mode": {
    "name": "ipython",
    "version": 3
   },
   "file_extension": ".py",
   "mimetype": "text/x-python",
   "name": "python",
   "nbconvert_exporter": "python",
   "pygments_lexer": "ipython3",
   "version": "3.12.7"
  }
 },
 "nbformat": 4,
 "nbformat_minor": 5
}
